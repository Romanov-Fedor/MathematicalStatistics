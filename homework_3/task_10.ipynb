{
 "cells": [
  {
   "cell_type": "markdown",
   "metadata": {},
   "source": [
    "### Задание 10.\n",
    "\n",
    "При снятии показаний измерительного прибора десятые доли деления шкалы прибора оцениваются \"на глаз\" наблюдателем. Количества цифр 0, 1, 2, ..., 9, записанных наблюдателем в качестве десятых долей при 100 независимых измерениях, равны 5, 8, 6, 12, 14, 18, 11, 6, 13, 7 соответственно\n",
    "\n",
    "#### a)\n",
    "Проверить гипотезу о согласии данных с законом равномерного распределения с помощью критерия $\\chi ^ 2$ и с помощью критерия Колмогорова. Сравнить результаты.\n",
    "\n",
    "#### b)\n",
    "\n",
    "Проверить гиптезу о согласии данных с законом нормального распределения с помощью критерия $\\chi ^ 2$ и с помощью критерия Колмогорова. Сравнить результаты."
   ]
  },
  {
   "cell_type": "markdown",
   "metadata": {},
   "source": [
    "### Критерий Колмогорова для равномерного распределения:\n"
   ]
  },
  {
   "cell_type": "code",
   "execution_count": 24,
   "metadata": {},
   "outputs": [
    {
     "name": "stdout",
     "output_type": "stream",
     "text": [
      "1.4000000000000001\n"
     ]
    }
   ],
   "source": [
    "import numpy as np\n",
    "import random\n",
    "\n",
    "def F(x: float) -> float:\n",
    "    return x / 10\n",
    "\n",
    "\n",
    "def F_inv(y: float) -> float:\n",
    "    return 10 * y\n",
    "\n",
    "n = 100\n",
    "\n",
    "p = np.array([5, 8, 6, 12, 14, 18, 11, 6, 13, 7]) / 100\n",
    "\n",
    "F_emp = np.array([sum(p[:i]) for i in range(len(p) + 1)])\n",
    "x = [i for i in range(10)]\n",
    "delta = np.max([max(abs(F(x[i]) - F_emp[i]), abs(F(x[i]) - F_emp[i  +1])) for i in range(10)])\n",
    "\n",
    "delta = np.sqrt(n) * delta\n",
    "\n",
    "print(delta)\n",
    "\n",
    "\n"
   ]
  },
  {
   "cell_type": "markdown",
   "metadata": {},
   "source": [
    "$$\n",
    "p-value = P(\\Delta \\geq \\tilde{\\Delta} | H_0)  = 1 - K(\\tilde{\\Delta}) = -2 * \\sum_{k=1}^{\\infty}(-1)^k \\cdot e ^ {-2k^2 \\tilde{\\Delta} ^2}\n",
    "$$"
   ]
  },
  {
   "cell_type": "code",
   "execution_count": 25,
   "metadata": {},
   "outputs": [
    {
     "name": "stdout",
     "output_type": "stream",
     "text": [
      "0.03968187953811435\n"
     ]
    }
   ],
   "source": [
    "p_value = 0\n",
    "for k in range(1, 1000000):\n",
    "    p_value -= 2 * (-1) ** k * np.exp(-2 * k ** 2 * delta ** 2)\n",
    "\n",
    "print(p_value)"
   ]
  },
  {
   "cell_type": "markdown",
   "metadata": {},
   "source": [
    "Т.к p-value $\\le$ 0.05, то отвергаем $H_0$"
   ]
  },
  {
   "cell_type": "markdown",
   "metadata": {},
   "source": [
    "#### Сравнение\n",
    "\n",
    "По критерию $\\chi ^ 2$ не было оснований отвергнуть $H_0$, а по критерия Колмогорова - отвергли.\n",
    "\n",
    "Это может быть связано с тем, что критерий Колмогорова более мощный, к тому же, визуально данные выборки не распределены равномерно. "
   ]
  },
  {
   "cell_type": "markdown",
   "metadata": {},
   "source": [
    "#### b)\n",
    "\n",
    "Проверить гиптезу о согласии данных с законом нормального распределения с помощью критерия $\\chi ^ 2$ и с помощью критерия Колмогорова. Сравнить результаты."
   ]
  },
  {
   "cell_type": "markdown",
   "metadata": {},
   "source": [
    "### Критерий Колмогорова для нормального распределения:"
   ]
  },
  {
   "cell_type": "code",
   "execution_count": 33,
   "metadata": {},
   "outputs": [
    {
     "name": "stdout",
     "output_type": "stream",
     "text": [
      "delta_wawe=1.0021837543059386\n",
      "p_value=0.24944\n"
     ]
    }
   ],
   "source": [
    "import math\n",
    "\n",
    "bootstrap_iteration = 50000\n",
    "alpha = 4.77\n",
    "sigma = np.sqrt(6.34)\n",
    "\n",
    "def F_norm(x: float) -> float:\n",
    "    return 0.5 * (1 + math.erf((x - alpha) / (np.sqrt(2 * sigma ** 2))))\n",
    "\n",
    "p = np.array([5, 8, 6, 12, 14, 18, 11, 6, 13, 7]) / 100\n",
    "F_emp = np.array([sum(p[:i]) for i in range(len(p) + 1)])\n",
    "x = [i for i in range(10)]\n",
    "delta_wawe = np.sqrt(n) * np.max([max(abs(F_norm(x[i]) - F_emp[i]), abs(F_norm(x[i]) - F_emp[i + 1])) for i in range(10)])\n",
    "\n",
    "print(f'{delta_wawe=}')\n",
    "\n",
    "bootstrap_deltas = []\n",
    "\n",
    "for i in range(bootstrap_iteration):\n",
    "    bootstrap_arr = sorted(np.random.normal(alpha, sigma, n))\n",
    "    bootstrap_F_emp = [i / n for i in range(0, n + 1)]\n",
    "    bootstrap_delta = np.sqrt(n) * np.max([max(abs(F_norm(bootstrap_arr[i]) - bootstrap_F_emp[i]), abs(F_norm(bootstrap_arr[i]) - bootstrap_F_emp[i  + 1])) for i in range(n)])\n",
    "    bootstrap_deltas.append(bootstrap_delta)\n",
    "\n",
    "bootstrap_deltas.sort()\n",
    "K = np.sum([1 for i in range(bootstrap_iteration) if bootstrap_deltas[i] >= delta_wawe])\n",
    "p_value = K / bootstrap_iteration\n",
    "print(f'{p_value=}')"
   ]
  },
  {
   "cell_type": "markdown",
   "metadata": {},
   "source": [
    "Т.к p-value > 0.05, то нет оснований отвергать $H_0$"
   ]
  },
  {
   "cell_type": "markdown",
   "metadata": {},
   "source": [
    "### Сравнение \n",
    "\n",
    "Критерий $\\chi^2$ отвергает гипотезу, а критерий Колмогорова - нет. Это может быть из-за того, что $\\chi^2$ более чувствительный к скачкам в выборке, хотя форма выборки похожа на нормальное распределение."
   ]
  }
 ],
 "metadata": {
  "kernelspec": {
   "display_name": "Python 3",
   "language": "python",
   "name": "python3"
  },
  "language_info": {
   "codemirror_mode": {
    "name": "ipython",
    "version": 3
   },
   "file_extension": ".py",
   "mimetype": "text/x-python",
   "name": "python",
   "nbconvert_exporter": "python",
   "pygments_lexer": "ipython3",
   "version": "3.12.2"
  }
 },
 "nbformat": 4,
 "nbformat_minor": 2
}
