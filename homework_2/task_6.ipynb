{
 "cells": [
  {
   "cell_type": "markdown",
   "metadata": {},
   "source": [
    "### 6. Случайная величина имеет распределениe Парето\n",
    "\n",
    "\n",
    "\\begin{equation*} \n",
    "p(x) =\n",
    "\\begin{cases} \n",
    "\\frac{\\theta - 1}{x^{\\theta}}, & \\text{если } x \\geq 1, \\\\\n",
    "0, & \\text{если } x < 1.\n",
    "\\end{cases}\n",
    "\\end{equation*} \n",
    "\n",
    "\n",
    "#### d)\n",
    "Сгенерируйте выборку объема n = 100 для некоторого значения параметра $\\theta$. Вычислите указанные выше доверительные интервалы для доверительной вероятности 0.95\n",
    "\n",
    "#### t)\n",
    "Численно постройте бутстраповский доверительный интервал двумя способами, используя параметрический бутстрап и непараметрический бутстрап.\n",
    "\n",
    "#### f)\n",
    "Сравнить все интервалы.\n"
   ]
  },
  {
   "cell_type": "code",
   "execution_count": 22,
   "metadata": {},
   "outputs": [
    {
     "data": {
      "text/plain": [
       "[2.3173095175997567,\n",
       " 2.1613144059653577,\n",
       " 1.5099918273772706,\n",
       " 1.0771726602597913,\n",
       " 1.7649078317436646,\n",
       " 1.6493767080737023,\n",
       " 1.017041399107547,\n",
       " 1.6240976687005857,\n",
       " 1.0554178042683031,\n",
       " 1.413082296769121,\n",
       " 1.0576914333981962,\n",
       " 1.5240679377342834,\n",
       " 2.819064848589002,\n",
       " 1.1332307908251937,\n",
       " 1.2274744179136292,\n",
       " 1.0999899232899004,\n",
       " 1.4800062279632076,\n",
       " 81.42405514929881,\n",
       " 1.6809900635528727,\n",
       " 1.5436143430111842,\n",
       " 5.269700991188296,\n",
       " 1.8640142479176807,\n",
       " 4.017591038730939,\n",
       " 2.128563524460023,\n",
       " 1.3488840181287285,\n",
       " 1.083973270879957,\n",
       " 2.8325579084646093,\n",
       " 1.2964789525377336,\n",
       " 2.5761330110967355,\n",
       " 2.6983287295370477,\n",
       " 1.158319535345364,\n",
       " 1.076216231148458,\n",
       " 1.0185492574978272,\n",
       " 1.2063660591007819,\n",
       " 13.401681576025053,\n",
       " 2.384256893981903,\n",
       " 1.1623950738655449,\n",
       " 1.2076477315006593,\n",
       " 1.2538445459521161,\n",
       " 1.1873360531502817,\n",
       " 2.0213654019326035,\n",
       " 1.1662021584964166,\n",
       " 1.190375720103907,\n",
       " 1.0483800968866215,\n",
       " 14.571771896881545,\n",
       " 1.4303078188394298,\n",
       " 1.285196364327881,\n",
       " 2.345796447554133,\n",
       " 1.0524952316403853,\n",
       " 1.6744754545413736,\n",
       " 2.6751514547218034,\n",
       " 1.8191412097870947,\n",
       " 2.2692092667760284,\n",
       " 1.397212584146379,\n",
       " 1.8417437065154583,\n",
       " 1.3399901999629946,\n",
       " 2.079946677997839,\n",
       " 1.1609127923031906,\n",
       " 1.0656135566295202,\n",
       " 1.127622292482321,\n",
       " 1.2511422696086427,\n",
       " 1.7393218140616225,\n",
       " 1.1046587503945482,\n",
       " 1.0467420367027425,\n",
       " 1.6564770524222656,\n",
       " 1.5758922137009348,\n",
       " 1.7845308863929672,\n",
       " 1.6790460190918304,\n",
       " 1.1537191287771587,\n",
       " 1.2511215141586918,\n",
       " 2.214011284498334,\n",
       " 1.4655694430761568,\n",
       " 1.0677395577510913,\n",
       " 1.9256948223075252,\n",
       " 1.1429229009033772,\n",
       " 1.3854971231247237,\n",
       " 1.9616792590268404,\n",
       " 8.415809287366336,\n",
       " 1.126961716543912,\n",
       " 1.3177462987599644,\n",
       " 1.1115808385467663,\n",
       " 1.6751125637975919,\n",
       " 1.2150495815810978,\n",
       " 1.3062848187888703,\n",
       " 1.1925009758181884,\n",
       " 2.052668397312201,\n",
       " 1.8169997975904029,\n",
       " 1.9674745137405933,\n",
       " 1.06991125994984,\n",
       " 1.0999168915208908,\n",
       " 1.0284011168913592,\n",
       " 1.1253250665779022,\n",
       " 2.090605543455024,\n",
       " 1.7149362740625738,\n",
       " 2.425703968424419,\n",
       " 1.634069563203008,\n",
       " 2.496564294487902,\n",
       " 1.356380467172221,\n",
       " 1.2287340308150636,\n",
       " 1.4248908663178688]"
      ]
     },
     "execution_count": 22,
     "metadata": {},
     "output_type": "execute_result"
    }
   ],
   "source": [
    "import numpy as np\n",
    "import random\n",
    "\n",
    "theta = 3\n",
    "\n",
    "def p(x: float) -> float:\n",
    "    return (theta - 1) / x ** theta if x >= 0 else 0\n",
    "\n",
    "def F(x: float) -> float:\n",
    "    return (1 - x ** (1 - theta)) if x >= 0 else 0\n",
    "\n",
    "def F_inv(y: float) -> float:\n",
    "    return (1 - y) ** (1 / (1 - theta))\n",
    "\n",
    "n = 100\n",
    "arr : list = [float(F_inv(random.random())) for _ in range(n)]\n",
    "\n",
    "arr"
   ]
  },
  {
   "cell_type": "markdown",
   "metadata": {},
   "source": [
    "$$\n",
    "\\tilde{\\theta} = 1 + \\frac{1}{\\overline{ln(x)}}\n",
    "$$\n",
    "\n",
    "$$\n",
    "P(\\tilde{\\theta} - \\frac{(\\tilde{\\theta} - 1)t_2}{\\sqrt{n}} < \\theta < \\tilde{\\theta} - \\frac{(\\tilde{\\theta} - 1)t_1}{\\sqrt{n}}) = \\beta\n",
    "$$"
   ]
  },
  {
   "cell_type": "code",
   "execution_count": 23,
   "metadata": {},
   "outputs": [
    {
     "name": "stdout",
     "output_type": "stream",
     "text": [
      "Доверительный интервал: (2.551509804949261, 3.3079673217901937)\n",
      "Длина интервала: 0.7564575168409329\n"
     ]
    }
   ],
   "source": [
    "t_1 = -1.96\n",
    "t_2 = 1.96\n",
    "\n",
    "\n",
    "beta = 0.95\n",
    "\n",
    "theta_wave = 1 + 1 / np.mean([np.log(x) for x in arr])\n",
    "\n",
    "left_part = theta_wave - ((theta_wave - 1) * t_2) / np.sqrt(n)\n",
    "right_part = theta_wave -  ((theta_wave - 1) * t_1) / np.sqrt(n)\n",
    "print(f'Доверительный интервал: ({left_part}, {right_part})')\n",
    "print(f'Длина интервала: {right_part - left_part}')\n"
   ]
  },
  {
   "cell_type": "markdown",
   "metadata": {},
   "source": [
    "### Доверительный интервал для медианы\n",
    "\n",
    "$$\n",
    "P(g(\\tilde{\\theta}) - \\frac{t_2 \\cdot ln2 \\cdot 2 ^ {\\frac{1}{(\\tilde{\\theta} - 1)}}}{(\\tilde{\\theta} - 1)\\sqrt{n}} < g(\\theta) < g(\\tilde{\\theta}) - \\frac{t_1 \\cdot ln2 \\cdot 2 ^ {\\frac{1}{(\\tilde{\\theta} - 1)}}}{(\\tilde{\\theta} - 1)\\sqrt{n}}) = \\beta\n",
    "$$"
   ]
  },
  {
   "cell_type": "code",
   "execution_count": 30,
   "metadata": {},
   "outputs": [
    {
     "name": "stdout",
     "output_type": "stream",
     "text": [
      "Доверительный интервал: (1.4126652521681857, 1.4491849400200805)\n",
      "Длина интервала: 0.036519687851894744\n",
      "Медиана:  1.4275993425786493\n"
     ]
    }
   ],
   "source": [
    "\n",
    "def g(theta : float) -> float:\n",
    "    return 2 ** (1 / (theta - 1))\n",
    "\n",
    "left_part = g(theta_wave) - (t_2 * np.log(2) * g(theta_wave)) / ((theta_wave - 1) * np.sqrt(n)) \n",
    "right_part = g(theta_wave) - (t_1 * np.log(2) * g(theta_wave)) / ((theta_wave - 1) * np.sqrt(n)) \n",
    "print(f'Доверительный интервал: ({left_part}, {right_part})')\n",
    "print(f'Длина интервала: {right_part - left_part}')\n",
    "\n",
    "print(\"Медиана: \", (sorted(arr)[49] + sorted(arr)[50]) / 2)"
   ]
  },
  {
   "cell_type": "markdown",
   "metadata": {},
   "source": [
    "#### t)\n",
    "Численно постройте бутстраповский доверительный интервал двумя способами, используя параметрический бутстрап и непараметрический бутстрап."
   ]
  },
  {
   "cell_type": "markdown",
   "metadata": {},
   "source": [
    "#### Непараметрический:\n"
   ]
  },
  {
   "cell_type": "code",
   "execution_count": 24,
   "metadata": {},
   "outputs": [
    {
     "name": "stdout",
     "output_type": "stream",
     "text": [
      "Доверительный интервал: (2.4246310039545422, 3.3279976637775066)\n",
      "Длина интервала: 0.9033666598229644\n"
     ]
    }
   ],
   "source": [
    "bootstrap_iteration = 1000\n",
    "\n",
    "theta_wave = 1 + 1 / np.mean([np.log(x) for x in arr]) # Оценка ОМП\n",
    "\n",
    "bootstrap_delta = []\n",
    "\n",
    "for i in range(bootstrap_iteration):\n",
    "    bootstrap_arr = np.random.choice(arr, size=len(arr), replace=True)\n",
    "    bootstrap_theta = 1 + 1 / np.mean([np.log(x) for x in bootstrap_arr])\n",
    "    bootstrap_delta.append(bootstrap_theta - theta_wave)\n",
    "\n",
    "bootstrap_delta.sort()\n",
    "t_1 = bootstrap_delta[int(bootstrap_iteration * (1 - beta) / 2)]\n",
    "t_2 = bootstrap_delta[int(bootstrap_iteration * (1 + beta) / 2)]\n",
    "right_part = -(t_1 - theta_wave)\n",
    "left_part = -(t_2 - theta_wave)\n",
    "print(f'Доверительный интервал: ({left_part}, {right_part})')\n",
    "print(f'Длина интервала: {right_part - left_part}')\n",
    "\n"
   ]
  },
  {
   "cell_type": "markdown",
   "metadata": {},
   "source": [
    "#Параметрический:"
   ]
  },
  {
   "cell_type": "code",
   "execution_count": 25,
   "metadata": {},
   "outputs": [
    {
     "name": "stdout",
     "output_type": "stream",
     "text": [
      "Доверительный интервал: (2.550540732817705, 3.2604532757331874)\n",
      "Длина интервала: 0.7099125429154824\n"
     ]
    }
   ],
   "source": [
    "def F_inv_star(y: float, theta_w: float) -> float:\n",
    "    return (1 - y) ** (1 / (1 - theta_w))\n",
    "\n",
    "bootstrap_iteration = 50000\n",
    "\n",
    "\n",
    "for i in range(bootstrap_iteration):\n",
    "    bootstrap_arr = [F_inv_star(random.random(), theta_wave) for _ in range(n)]\n",
    "    bootstrap_theta = 1 + 1 / np.mean([np.log(x) for x in bootstrap_arr])\n",
    "    bootstrap_delta.append(bootstrap_theta - theta_wave)\n",
    "\n",
    "bootstrap_delta.sort()\n",
    "t_1 = bootstrap_delta[int(bootstrap_iteration * (1 - beta) / 2)]\n",
    "t_2 = bootstrap_delta[int(bootstrap_iteration * (1 + beta) / 2)]\n",
    "right_part = -(t_1 - theta_wave)\n",
    "left_part = -(t_2 - theta_wave)\n",
    "print(f'Доверительный интервал: ({left_part}, {right_part})')\n",
    "print(f'Длина интервала: {right_part - left_part}')\n"
   ]
  },
  {
   "cell_type": "markdown",
   "metadata": {},
   "source": [
    "#### f)\n",
    "Сравнить все интервалы."
   ]
  },
  {
   "cell_type": "markdown",
   "metadata": {},
   "source": [
    "По размеру интервала получаюется, что параметрический бутстрап < асимптотический метод < непараметрический бутстрап\n",
    "\n",
    "Но так, как парметрический бутстрап может занижать дисперсию, то наверняка сказать, что он лучше нельзя.\n"
   ]
  }
 ],
 "metadata": {
  "kernelspec": {
   "display_name": "Python 3",
   "language": "python",
   "name": "python3"
  },
  "language_info": {
   "codemirror_mode": {
    "name": "ipython",
    "version": 3
   },
   "file_extension": ".py",
   "mimetype": "text/x-python",
   "name": "python",
   "nbconvert_exporter": "python",
   "pygments_lexer": "ipython3",
   "version": "3.12.2"
  }
 },
 "nbformat": 4,
 "nbformat_minor": 2
}
